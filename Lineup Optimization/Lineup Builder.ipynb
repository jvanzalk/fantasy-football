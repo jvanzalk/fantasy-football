{
 "cells": [
  {
   "cell_type": "code",
   "execution_count": 1,
   "id": "1aa0e56c",
   "metadata": {},
   "outputs": [],
   "source": [
    "# import packages\n",
    "import pandas as pd\n",
    "import numpy as np"
   ]
  },
  {
   "cell_type": "code",
   "execution_count": 2,
   "id": "f888e0b4",
   "metadata": {},
   "outputs": [
    {
     "data": {
      "text/html": [
       "<div>\n",
       "<style scoped>\n",
       "    .dataframe tbody tr th:only-of-type {\n",
       "        vertical-align: middle;\n",
       "    }\n",
       "\n",
       "    .dataframe tbody tr th {\n",
       "        vertical-align: top;\n",
       "    }\n",
       "\n",
       "    .dataframe thead th {\n",
       "        text-align: right;\n",
       "    }\n",
       "</style>\n",
       "<table border=\"1\" class=\"dataframe\">\n",
       "  <thead>\n",
       "    <tr style=\"text-align: right;\">\n",
       "      <th></th>\n",
       "      <th>Player</th>\n",
       "      <th>Position</th>\n",
       "      <th>Rank</th>\n",
       "      <th>Team</th>\n",
       "      <th>Price</th>\n",
       "      <th>Points</th>\n",
       "    </tr>\n",
       "  </thead>\n",
       "  <tbody>\n",
       "    <tr>\n",
       "      <th>0</th>\n",
       "      <td>Jonathan Taylor</td>\n",
       "      <td>RB</td>\n",
       "      <td>RB1</td>\n",
       "      <td>IND</td>\n",
       "      <td>76</td>\n",
       "      <td>297</td>\n",
       "    </tr>\n",
       "    <tr>\n",
       "      <th>1</th>\n",
       "      <td>Aaron Jones</td>\n",
       "      <td>RB</td>\n",
       "      <td>RB12</td>\n",
       "      <td>GB</td>\n",
       "      <td>54</td>\n",
       "      <td>212</td>\n",
       "    </tr>\n",
       "    <tr>\n",
       "      <th>2</th>\n",
       "      <td>Stefon Diggs</td>\n",
       "      <td>WR</td>\n",
       "      <td>WR5</td>\n",
       "      <td>BUF</td>\n",
       "      <td>52</td>\n",
       "      <td>210</td>\n",
       "    </tr>\n",
       "    <tr>\n",
       "      <th>3</th>\n",
       "      <td>D'Andre Swift</td>\n",
       "      <td>RB</td>\n",
       "      <td>RB10</td>\n",
       "      <td>DET</td>\n",
       "      <td>50</td>\n",
       "      <td>222</td>\n",
       "    </tr>\n",
       "    <tr>\n",
       "      <th>4</th>\n",
       "      <td>J.K. Dobbins</td>\n",
       "      <td>RB</td>\n",
       "      <td>RB19</td>\n",
       "      <td>BAL</td>\n",
       "      <td>37</td>\n",
       "      <td>197</td>\n",
       "    </tr>\n",
       "  </tbody>\n",
       "</table>\n",
       "</div>"
      ],
      "text/plain": [
       "            Player Position  Rank Team  Price  Points\n",
       "0  Jonathan Taylor       RB   RB1  IND     76     297\n",
       "1      Aaron Jones       RB  RB12   GB     54     212\n",
       "2     Stefon Diggs       WR   WR5  BUF     52     210\n",
       "3    D'Andre Swift       RB  RB10  DET     50     222\n",
       "4     J.K. Dobbins       RB  RB19  BAL     37     197"
      ]
     },
     "execution_count": 2,
     "metadata": {},
     "output_type": "execute_result"
    }
   ],
   "source": [
    "# import list of players\n",
    "df = pd.read_csv(\"my_players.csv\")\n",
    "df.head()"
   ]
  },
  {
   "cell_type": "markdown",
   "id": "b4b55527",
   "metadata": {},
   "source": [
    "## Find a lineup"
   ]
  },
  {
   "cell_type": "code",
   "execution_count": 4,
   "id": "a545b07e",
   "metadata": {},
   "outputs": [
    {
     "name": "stdout",
     "output_type": "stream",
     "text": [
      "185\n",
      "1498\n",
      "                Player Position  Rank Team  Price  Points\n",
      "0           Trey Lance       QB  QB13   SF      9     285\n",
      "1            Joe Mixon       RB   RB5  CIN     64     235\n",
      "2         James Conner       RB  RB11  ARI     44     216\n",
      "3         Chris Godwin       WR  WR24   TB     15     173\n",
      "4  Michael Pittman Jr.       WR  WR14  IND     28     183\n",
      "5       Dallas Goedert       TE   TE8  PHI     10     122\n",
      "6            D Hopkins       WR  WR46  ARI      7     141\n",
      "7        Brandon Aiyuk       WR  WR45   SF      8     143\n"
     ]
    }
   ],
   "source": [
    "# Take random sample of players at different positions until a team meets the price criteria\n",
    "while True:\n",
    "    \n",
    "    qb =  df[df['Position']==\"QB\"].sample(n=1)\n",
    "    rb =  df[df['Position']==\"RB\"].sample(n=2)\n",
    "    wr =  df[df['Position']==\"WR\"].sample(n=2)\n",
    "    te =  df[df['Position']==\"TE\"].sample(n=1)\n",
    "\n",
    "    team = pd.concat([qb,rb,wr,te],ignore_index=True)\n",
    "    \n",
    "    #flex can be a rb, wr, or te, but not a player that's already on a team\n",
    "    flex =  df[df['Position'].isin([\"RB\",\"WR\",\"TE\"])&~df['Player'].isin(team['Player'])].sample(n=2)\n",
    "\n",
    "    team = pd.concat([team,flex],ignore_index=True)\n",
    "    \n",
    "    # total cost of players should be between $185 - $190 (leave at least $10 for bench)\n",
    "    if(185<= sum(team['Price']) <=190):\n",
    "        \n",
    "        \n",
    "        print(sum(team['Price']))\n",
    "        print(sum(team['Points']))\n",
    "        print(team)\n",
    "        break\n",
    "    \n"
   ]
  },
  {
   "cell_type": "markdown",
   "id": "fa56d9f1",
   "metadata": {},
   "source": [
    "## Find the optimal lineup (maximize projected points)"
   ]
  },
  {
   "cell_type": "code",
   "execution_count": 5,
   "id": "5c6f056b",
   "metadata": {},
   "outputs": [],
   "source": [
    "# create lists for each postion and player prices\n",
    "qbs,rbs,wrs,tes,flexs,prices= ([] for i in range(6))\n",
    "\n",
    "# loop through each player and append lists with a 1 if they fit a position, and a 0 if they do not\n",
    "for index,row in df.iterrows():\n",
    "    if (row['Position']==\"QB\"):\n",
    "        qbs.append(1)\n",
    "        rbs.append(0)\n",
    "        wrs.append(0)\n",
    "        tes.append(0)\n",
    "        flexs.append(0)\n",
    "    elif(row['Position']==\"RB\"):\n",
    "        qbs.append(0)\n",
    "        rbs.append(1)\n",
    "        wrs.append(0)\n",
    "        tes.append(0)\n",
    "        flexs.append(1)\n",
    "    elif(row['Position']==\"WR\"):\n",
    "        qbs.append(0)\n",
    "        rbs.append(0)\n",
    "        wrs.append(1)\n",
    "        tes.append(0)\n",
    "        flexs.append(1)\n",
    "    else:\n",
    "        qbs.append(0)\n",
    "        rbs.append(0)\n",
    "        wrs.append(0)\n",
    "        tes.append(1)\n",
    "        flexs.append(1)\n",
    "\n",
    "    prices.append(row['Price'])\n",
    "        \n"
   ]
  },
  {
   "cell_type": "code",
   "execution_count": 6,
   "id": "a3fd518c",
   "metadata": {},
   "outputs": [
    {
     "name": "stdout",
     "output_type": "stream",
     "text": [
      "[[0, 0, 0, 0, 0, 0, 0, 0, 0, 0, 0, 0, 0, 0, 0, 0, 0, 0, 0, 1, 0, 0, 0, 0, 0, 0, 0, 0, 1, 0, 1, 0, 0, 0, 0, 0, 1], [1, 1, 1, 1, 1, 1, 1, 1, 1, 1, 1, 1, 1, 1, 1, 1, 1, 1, 1, 0, 1, 1, 1, 1, 1, 1, 1, 1, 0, 1, 0, 1, 1, 1, 1, 1, 0]]\n"
     ]
    }
   ],
   "source": [
    "# create equality contraints (qb=1,flex=7)\n",
    "lhs_eq = [qbs,flexs]\n",
    "#flex = 7 because it includes the 5 players that fit other positions  \n",
    "rhs_eq = [1,7]\n",
    "print(lhs_eq)"
   ]
  },
  {
   "cell_type": "code",
   "execution_count": 7,
   "id": "890c624b",
   "metadata": {},
   "outputs": [
    {
     "name": "stdout",
     "output_type": "stream",
     "text": [
      "[[-1, -1, 0, -1, -1, -1, 0, 0, -1, 0, -1, 0, 0, 0, 0, 0, 0, 0, -1, 0, 0, 0, -1, -1, -1, -1, -1, -1, 0, 0, 0, 0, 0, -1, 0, -1, 0], [0, 0, -1, 0, 0, 0, -1, -1, 0, -1, 0, -1, -1, -1, -1, -1, 0, 0, 0, 0, -1, -1, 0, 0, 0, 0, 0, 0, 0, -1, 0, 0, -1, 0, -1, 0, 0], [0, 0, 0, 0, 0, 0, 0, 0, 0, 0, 0, 0, 0, 0, 0, 0, -1, -1, 0, 0, 0, 0, 0, 0, 0, 0, 0, 0, 0, 0, 0, -1, 0, 0, 0, 0, 0], [76, 54, 52, 50, 37, 33, 32, 28, 27, 25, 21, 20, 7, 17, 15, 15, 12, 10, 10, 9, 4, 9, 64, 60, 44, 8, 8, 36, 9, 8, 7, 5, 5, 4, 4, 4, 2]]\n"
     ]
    }
   ],
   "source": [
    "# Inequality constraints \n",
    "# because linprog only solves maximization problems, it doesn't allow greater than inequality constraints (rb, wr,te)\n",
    "# Making the values negative uses a less than sign so the contraint can be included\n",
    "lhs_ineq = [np.negative(rbs).tolist(),np.negative(wrs).tolist(),np.negative(tes).tolist(),prices]\n",
    "rhs_ineq = [-2,-2,-1,190]\n",
    "print(lhs_ineq)"
   ]
  },
  {
   "cell_type": "code",
   "execution_count": 8,
   "id": "4b8ea4f8",
   "metadata": {},
   "outputs": [
    {
     "name": "stdout",
     "output_type": "stream",
     "text": [
      "[-297, -212, -210, -222, -197, -191, -196, -183, -208, -182, -158, -174, -141, -174, -173, -160, -138, -122, -144, -285, -130, -156, -235, -227, -216, -145, -144, -201, -309, -143, -303, -109, -149, -100, -153, -104, -271]\n"
     ]
    }
   ],
   "source": [
    "# set the goal which is as many points as possible\n",
    "obj = (df['Points']*-1).tolist()\n",
    "print(obj)"
   ]
  },
  {
   "cell_type": "code",
   "execution_count": 9,
   "id": "73d0d039",
   "metadata": {},
   "outputs": [
    {
     "data": {
      "text/plain": [
       "[(0, 1), (0, 1), (0, 1), (0, 1), (0, 1)]"
      ]
     },
     "execution_count": 9,
     "metadata": {},
     "output_type": "execute_result"
    }
   ],
   "source": [
    "# set bounds for what can be returned for each variable (player) 1 = in lineup\n",
    "bnd = [(0,1)]*len(df)\n",
    "bnd[0:5]"
   ]
  },
  {
   "cell_type": "code",
   "execution_count": 10,
   "id": "cf190f8b",
   "metadata": {},
   "outputs": [
    {
     "name": "stderr",
     "output_type": "stream",
     "text": [
      "C:\\Anaconda\\envs\\jupy2\\lib\\site-packages\\scipy\\__init__.py:146: UserWarning: A NumPy version >=1.16.5 and <1.23.0 is required for this version of SciPy (detected version 1.23.1\n",
      "  warnings.warn(f\"A NumPy version >={np_minversion} and <{np_maxversion}\"\n"
     ]
    }
   ],
   "source": [
    "from scipy.optimize import linprog"
   ]
  },
  {
   "cell_type": "code",
   "execution_count": 11,
   "id": "ffa1ee80",
   "metadata": {},
   "outputs": [],
   "source": [
    "# optimize\n",
    "opt = linprog(c=obj, A_ub=lhs_ineq, b_ub=rhs_ineq,\n",
    "              A_eq=lhs_eq, b_eq=rhs_eq, bounds=bnd,\n",
    "              method=\"highs\")# update scipy to get integers only with integrality=np.array([1]*len(df)) "
   ]
  },
  {
   "cell_type": "code",
   "execution_count": 12,
   "id": "61105c19",
   "metadata": {},
   "outputs": [],
   "source": [
    "# get array holding optimal players\n",
    "# round to integer because version of scipy that anaconda supports does not have integrality argument for linprog function\n",
    "selects = np.round(opt.x,0)"
   ]
  },
  {
   "cell_type": "code",
   "execution_count": 13,
   "id": "186f9606",
   "metadata": {},
   "outputs": [
    {
     "data": {
      "text/plain": [
       "[0, 6, 8, 13, 14, 16, 28, 34]"
      ]
     },
     "execution_count": 13,
     "metadata": {},
     "output_type": "execute_result"
    }
   ],
   "source": [
    "# Get indexes for players that were selected\n",
    "inds = np.where(selects ==1)[0].tolist()\n",
    "inds"
   ]
  },
  {
   "cell_type": "code",
   "execution_count": 14,
   "id": "71a817bb",
   "metadata": {},
   "outputs": [
    {
     "data": {
      "text/html": [
       "<div>\n",
       "<style scoped>\n",
       "    .dataframe tbody tr th:only-of-type {\n",
       "        vertical-align: middle;\n",
       "    }\n",
       "\n",
       "    .dataframe tbody tr th {\n",
       "        vertical-align: top;\n",
       "    }\n",
       "\n",
       "    .dataframe thead th {\n",
       "        text-align: right;\n",
       "    }\n",
       "</style>\n",
       "<table border=\"1\" class=\"dataframe\">\n",
       "  <thead>\n",
       "    <tr style=\"text-align: right;\">\n",
       "      <th></th>\n",
       "      <th>Player</th>\n",
       "      <th>Position</th>\n",
       "      <th>Rank</th>\n",
       "      <th>Team</th>\n",
       "      <th>Price</th>\n",
       "      <th>Points</th>\n",
       "    </tr>\n",
       "  </thead>\n",
       "  <tbody>\n",
       "    <tr>\n",
       "      <th>0</th>\n",
       "      <td>Jonathan Taylor</td>\n",
       "      <td>RB</td>\n",
       "      <td>RB1</td>\n",
       "      <td>IND</td>\n",
       "      <td>76</td>\n",
       "      <td>297</td>\n",
       "    </tr>\n",
       "    <tr>\n",
       "      <th>6</th>\n",
       "      <td>Tee Higgins</td>\n",
       "      <td>WR</td>\n",
       "      <td>WR9</td>\n",
       "      <td>CIN</td>\n",
       "      <td>32</td>\n",
       "      <td>196</td>\n",
       "    </tr>\n",
       "    <tr>\n",
       "      <th>8</th>\n",
       "      <td>David Montgomery</td>\n",
       "      <td>RB</td>\n",
       "      <td>RB15</td>\n",
       "      <td>CHI</td>\n",
       "      <td>27</td>\n",
       "      <td>208</td>\n",
       "    </tr>\n",
       "    <tr>\n",
       "      <th>13</th>\n",
       "      <td>Darnell Mooney</td>\n",
       "      <td>WR</td>\n",
       "      <td>WR20</td>\n",
       "      <td>CHI</td>\n",
       "      <td>17</td>\n",
       "      <td>174</td>\n",
       "    </tr>\n",
       "    <tr>\n",
       "      <th>14</th>\n",
       "      <td>Chris Godwin</td>\n",
       "      <td>WR</td>\n",
       "      <td>WR24</td>\n",
       "      <td>TB</td>\n",
       "      <td>15</td>\n",
       "      <td>173</td>\n",
       "    </tr>\n",
       "    <tr>\n",
       "      <th>16</th>\n",
       "      <td>Dalton Schultz</td>\n",
       "      <td>TE</td>\n",
       "      <td>TE6</td>\n",
       "      <td>DAL</td>\n",
       "      <td>12</td>\n",
       "      <td>138</td>\n",
       "    </tr>\n",
       "    <tr>\n",
       "      <th>28</th>\n",
       "      <td>Tom Brady</td>\n",
       "      <td>QB</td>\n",
       "      <td>QB9</td>\n",
       "      <td>TB</td>\n",
       "      <td>9</td>\n",
       "      <td>309</td>\n",
       "    </tr>\n",
       "    <tr>\n",
       "      <th>34</th>\n",
       "      <td>Garrett Wilson</td>\n",
       "      <td>WR</td>\n",
       "      <td>WR37</td>\n",
       "      <td>NYJ</td>\n",
       "      <td>4</td>\n",
       "      <td>153</td>\n",
       "    </tr>\n",
       "  </tbody>\n",
       "</table>\n",
       "</div>"
      ],
      "text/plain": [
       "              Player Position  Rank Team  Price  Points\n",
       "0    Jonathan Taylor       RB   RB1  IND     76     297\n",
       "6        Tee Higgins       WR   WR9  CIN     32     196\n",
       "8   David Montgomery       RB  RB15  CHI     27     208\n",
       "13    Darnell Mooney       WR  WR20  CHI     17     174\n",
       "14      Chris Godwin       WR  WR24   TB     15     173\n",
       "16    Dalton Schultz       TE   TE6  DAL     12     138\n",
       "28         Tom Brady       QB   QB9   TB      9     309\n",
       "34    Garrett Wilson       WR  WR37  NYJ      4     153"
      ]
     },
     "execution_count": 14,
     "metadata": {},
     "output_type": "execute_result"
    }
   ],
   "source": [
    "### View the dream team\n",
    "dream_team=df.iloc[inds]\n",
    "\n",
    "#Print players in optimal lineup\n",
    "dream_team"
   ]
  },
  {
   "cell_type": "code",
   "execution_count": 15,
   "id": "34866034",
   "metadata": {},
   "outputs": [
    {
     "data": {
      "text/plain": [
       "1648"
      ]
     },
     "execution_count": 15,
     "metadata": {},
     "output_type": "execute_result"
    }
   ],
   "source": [
    "# Projected 150 points more than random lineup! \n",
    "sum(dream_team['Points'])"
   ]
  }
 ],
 "metadata": {
  "kernelspec": {
   "display_name": "Python 3 (ipykernel)",
   "language": "python",
   "name": "python3"
  },
  "language_info": {
   "codemirror_mode": {
    "name": "ipython",
    "version": 3
   },
   "file_extension": ".py",
   "mimetype": "text/x-python",
   "name": "python",
   "nbconvert_exporter": "python",
   "pygments_lexer": "ipython3",
   "version": "3.8.13"
  }
 },
 "nbformat": 4,
 "nbformat_minor": 5
}
